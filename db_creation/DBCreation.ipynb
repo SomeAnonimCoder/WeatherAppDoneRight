{
 "cells": [
  {
   "cell_type": "code",
   "execution_count": 1,
   "id": "097ebbb3",
   "metadata": {},
   "outputs": [],
   "source": [
    "import pandas as pd\n"
   ]
  },
  {
   "cell_type": "code",
   "execution_count": 2,
   "id": "fcfb5899",
   "metadata": {},
   "outputs": [
    {
     "name": "stdout",
     "output_type": "stream",
     "text": [
      "--2021-10-14 20:33:06--  https://bulk.openweathermap.org/sample/city.list.json.gz\n",
      "Resolving bulk.openweathermap.org (bulk.openweathermap.org)... 136.243.88.22\n",
      "Connecting to bulk.openweathermap.org (bulk.openweathermap.org)|136.243.88.22|:443... connected.\n",
      "HTTP request sent, awaiting response... 200 OK\n",
      "Length: 4002796 (3.8M) [application/json]\n",
      "Saving to: ‘city.list.json.gz’\n",
      "\n",
      "city.list.json.gz   100%[===================>]   3.82M   661KB/s    in 6.3s    \n",
      "\n",
      "2021-10-14 20:33:15 (624 KB/s) - ‘city.list.json.gz’ saved [4002796/4002796]\n",
      "\n"
     ]
    }
   ],
   "source": [
    "! wget https://bulk.openweathermap.org/sample/city.list.json.gz\n",
    "! gunzip city.list.json.gz"
   ]
  },
  {
   "cell_type": "code",
   "execution_count": 3,
   "id": "bb6951fc",
   "metadata": {},
   "outputs": [
    {
     "data": {
      "text/html": [
       "<div>\n",
       "<style scoped>\n",
       "    .dataframe tbody tr th:only-of-type {\n",
       "        vertical-align: middle;\n",
       "    }\n",
       "\n",
       "    .dataframe tbody tr th {\n",
       "        vertical-align: top;\n",
       "    }\n",
       "\n",
       "    .dataframe thead th {\n",
       "        text-align: right;\n",
       "    }\n",
       "</style>\n",
       "<table border=\"1\" class=\"dataframe\">\n",
       "  <thead>\n",
       "    <tr style=\"text-align: right;\">\n",
       "      <th></th>\n",
       "      <th>id</th>\n",
       "      <th>name</th>\n",
       "      <th>state</th>\n",
       "      <th>country</th>\n",
       "      <th>coord</th>\n",
       "    </tr>\n",
       "  </thead>\n",
       "  <tbody>\n",
       "    <tr>\n",
       "      <th>0</th>\n",
       "      <td>833</td>\n",
       "      <td>Ḩeşār-e Sefīd</td>\n",
       "      <td></td>\n",
       "      <td>IR</td>\n",
       "      <td>{'lon': 47.159401, 'lat': 34.330502}</td>\n",
       "    </tr>\n",
       "    <tr>\n",
       "      <th>1</th>\n",
       "      <td>2960</td>\n",
       "      <td>‘Ayn Ḩalāqīm</td>\n",
       "      <td></td>\n",
       "      <td>SY</td>\n",
       "      <td>{'lon': 36.321911, 'lat': 34.940079}</td>\n",
       "    </tr>\n",
       "    <tr>\n",
       "      <th>2</th>\n",
       "      <td>3245</td>\n",
       "      <td>Taglag</td>\n",
       "      <td></td>\n",
       "      <td>IR</td>\n",
       "      <td>{'lon': 44.98333, 'lat': 38.450001}</td>\n",
       "    </tr>\n",
       "    <tr>\n",
       "      <th>3</th>\n",
       "      <td>3530</td>\n",
       "      <td>Qabāghlū</td>\n",
       "      <td></td>\n",
       "      <td>IR</td>\n",
       "      <td>{'lon': 46.168499, 'lat': 36.173302}</td>\n",
       "    </tr>\n",
       "    <tr>\n",
       "      <th>4</th>\n",
       "      <td>5174</td>\n",
       "      <td>‘Arīqah</td>\n",
       "      <td></td>\n",
       "      <td>SY</td>\n",
       "      <td>{'lon': 36.48336, 'lat': 32.889809}</td>\n",
       "    </tr>\n",
       "    <tr>\n",
       "      <th>...</th>\n",
       "      <td>...</td>\n",
       "      <td>...</td>\n",
       "      <td>...</td>\n",
       "      <td>...</td>\n",
       "      <td>...</td>\n",
       "    </tr>\n",
       "    <tr>\n",
       "      <th>209574</th>\n",
       "      <td>8261417</td>\n",
       "      <td>Recoleta</td>\n",
       "      <td></td>\n",
       "      <td>CL</td>\n",
       "      <td>{'lon': -70.636383, 'lat': -33.40881}</td>\n",
       "    </tr>\n",
       "    <tr>\n",
       "      <th>209575</th>\n",
       "      <td>8277210</td>\n",
       "      <td>Beldibi</td>\n",
       "      <td></td>\n",
       "      <td>TR</td>\n",
       "      <td>{'lon': 30.707411, 'lat': 40.592731}</td>\n",
       "    </tr>\n",
       "    <tr>\n",
       "      <th>209576</th>\n",
       "      <td>10722858</td>\n",
       "      <td>Forsytheganj</td>\n",
       "      <td></td>\n",
       "      <td>BY</td>\n",
       "      <td>{'lon': 29.733333000000002, 'lat': 52.633333}</td>\n",
       "    </tr>\n",
       "    <tr>\n",
       "      <th>209577</th>\n",
       "      <td>71296900</td>\n",
       "      <td>Голубинка</td>\n",
       "      <td></td>\n",
       "      <td>UA</td>\n",
       "      <td>{'lon': 33.92, 'lat': 44.59}</td>\n",
       "    </tr>\n",
       "    <tr>\n",
       "      <th>209578</th>\n",
       "      <td>102908597</td>\n",
       "      <td>Gerton</td>\n",
       "      <td></td>\n",
       "      <td>US</td>\n",
       "      <td>{'lon': -82.348056, 'lat': 35.479167}</td>\n",
       "    </tr>\n",
       "  </tbody>\n",
       "</table>\n",
       "<p>209579 rows × 5 columns</p>\n",
       "</div>"
      ],
      "text/plain": [
       "               id           name state country  \\\n",
       "0             833  Ḩeşār-e Sefīd            IR   \n",
       "1            2960   ‘Ayn Ḩalāqīm            SY   \n",
       "2            3245         Taglag            IR   \n",
       "3            3530       Qabāghlū            IR   \n",
       "4            5174        ‘Arīqah            SY   \n",
       "...           ...            ...   ...     ...   \n",
       "209574    8261417       Recoleta            CL   \n",
       "209575    8277210        Beldibi            TR   \n",
       "209576   10722858   Forsytheganj            BY   \n",
       "209577   71296900      Голубинка            UA   \n",
       "209578  102908597         Gerton            US   \n",
       "\n",
       "                                                coord  \n",
       "0                {'lon': 47.159401, 'lat': 34.330502}  \n",
       "1                {'lon': 36.321911, 'lat': 34.940079}  \n",
       "2                 {'lon': 44.98333, 'lat': 38.450001}  \n",
       "3                {'lon': 46.168499, 'lat': 36.173302}  \n",
       "4                 {'lon': 36.48336, 'lat': 32.889809}  \n",
       "...                                               ...  \n",
       "209574          {'lon': -70.636383, 'lat': -33.40881}  \n",
       "209575           {'lon': 30.707411, 'lat': 40.592731}  \n",
       "209576  {'lon': 29.733333000000002, 'lat': 52.633333}  \n",
       "209577                   {'lon': 33.92, 'lat': 44.59}  \n",
       "209578          {'lon': -82.348056, 'lat': 35.479167}  \n",
       "\n",
       "[209579 rows x 5 columns]"
      ]
     },
     "execution_count": 3,
     "metadata": {},
     "output_type": "execute_result"
    }
   ],
   "source": [
    "data = pd.read_json('city.list.json')\n",
    "data"
   ]
  },
  {
   "cell_type": "code",
   "execution_count": 4,
   "id": "e6a61cb4",
   "metadata": {},
   "outputs": [],
   "source": [
    "data['lat'] = data.coord.apply(lambda x: x['lat'])\n",
    "data['lon'] = data.coord.apply(lambda x: x['lon'])\n",
    "data = data[['id', 'name', 'state', 'country', 'lat', 'lon']]\n",
    "data = data.sort_values(by='id')"
   ]
  },
  {
   "cell_type": "code",
   "execution_count": 5,
   "id": "79d8779c",
   "metadata": {},
   "outputs": [],
   "source": [
    "import sqlite3\n",
    "conn = sqlite3.connect('db.sqlite')\n",
    "data.to_sql('cities',conn, index=False)\n",
    "conn.close()"
   ]
  },
  {
   "cell_type": "code",
   "execution_count": 6,
   "id": "9421c3f2",
   "metadata": {},
   "outputs": [],
   "source": [
    "# ! mv db.sqlite ../app/src/main/res/raw"
   ]
  }
 ],
 "metadata": {
  "kernelspec": {
   "display_name": "Python 3",
   "language": "python",
   "name": "python3"
  },
  "language_info": {
   "codemirror_mode": {
    "name": "ipython",
    "version": 3
   },
   "file_extension": ".py",
   "mimetype": "text/x-python",
   "name": "python",
   "nbconvert_exporter": "python",
   "pygments_lexer": "ipython3",
   "version": "3.8.8"
  }
 },
 "nbformat": 4,
 "nbformat_minor": 5
}
